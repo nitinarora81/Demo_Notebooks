{
 "cells": [
  {
   "cell_type": "code",
   "execution_count": 9,
   "id": "d34a0914",
   "metadata": {},
   "outputs": [],
   "source": [
    "import numpy as np\n",
    "\n",
    "scores = [55, 60, 65, 70, 72, 75, 80, 85, 90, 95, 98, 100]\n",
    "\n",
    "q1 = np.percentile(scores, 25)\n",
    "q2 = np.percentile(scores, 50)  # Median\n",
    "q3 = np.percentile(scores, 75)"
   ]
  },
  {
   "cell_type": "code",
   "execution_count": 4,
   "id": "fbc17f57",
   "metadata": {},
   "outputs": [
    {
     "data": {
      "text/plain": [
       "68.75"
      ]
     },
     "execution_count": 4,
     "metadata": {},
     "output_type": "execute_result"
    }
   ],
   "source": [
    "q1"
   ]
  },
  {
   "cell_type": "code",
   "execution_count": 10,
   "id": "3bcae33e",
   "metadata": {},
   "outputs": [
    {
     "data": {
      "text/plain": [
       "77.5"
      ]
     },
     "execution_count": 10,
     "metadata": {},
     "output_type": "execute_result"
    }
   ],
   "source": [
    "q2"
   ]
  },
  {
   "cell_type": "code",
   "execution_count": 6,
   "id": "9b2305c4",
   "metadata": {},
   "outputs": [
    {
     "data": {
      "text/plain": [
       "91.25"
      ]
     },
     "execution_count": 6,
     "metadata": {},
     "output_type": "execute_result"
    }
   ],
   "source": [
    "q3"
   ]
  },
  {
   "cell_type": "code",
   "execution_count": 11,
   "id": "025080ea",
   "metadata": {},
   "outputs": [
    {
     "name": "stdout",
     "output_type": "stream",
     "text": [
      "t-statistic: 8.434361952066173\n",
      "p-value: 2.9787297612053343e-05\n"
     ]
    }
   ],
   "source": [
    "from scipy.stats import ttest_ind\n",
    "\n",
    "benign = [10, 12, 13, 15, 14]\n",
    "malignant = [22, 25, 30, 28, 27]\n",
    "\n",
    "# Perform independent t-test\n",
    "t_stat, p_value = ttest_ind(malignant, benign)\n",
    "\n",
    "print(\"t-statistic:\", t_stat)\n",
    "print(\"p-value:\", p_value)"
   ]
  },
  {
   "cell_type": "code",
   "execution_count": 12,
   "id": "1ff33409",
   "metadata": {},
   "outputs": [
    {
     "name": "stdout",
     "output_type": "stream",
     "text": [
      "Binomial outcomes: [6 6 5 7 7]\n"
     ]
    }
   ],
   "source": [
    "from scipy.stats import binom\n",
    "\n",
    "n = 10  # Number of trials\n",
    "p = 0.6  # Probability of success\n",
    "outcomes = binom.rvs(n, p, size=5)\n",
    "print(\"Binomial outcomes:\", outcomes)"
   ]
  },
  {
   "cell_type": "code",
   "execution_count": 13,
   "id": "b93ef62c",
   "metadata": {},
   "outputs": [
    {
     "name": "stdout",
     "output_type": "stream",
     "text": [
      "Geometric outcomes (1st success at): [9 7 1 3 1]\n"
     ]
    }
   ],
   "source": [
    "from scipy.stats import geom\n",
    "\n",
    "p = 0.2  # Probability of success\n",
    "attempts = geom.rvs(p, size=5)\n",
    "print(\"Geometric outcomes (1st success at):\", attempts)"
   ]
  },
  {
   "cell_type": "code",
   "execution_count": 26,
   "id": "52d74415",
   "metadata": {},
   "outputs": [
    {
     "name": "stdout",
     "output_type": "stream",
     "text": [
      "Sample Mean: 81.43504158659916\n",
      "T-statistic: 5.716031335067527\n",
      "P-value: 5.333150925708912e-05\n",
      "Reject the null hypothesis: The sample mean is significantly different from 75.\n"
     ]
    }
   ],
   "source": [
    "import numpy as np\n",
    "from scipy import stats\n",
    "\n",
    "# Sample data: test scores of 15 students\n",
    "np.random.seed(0)\n",
    "sample_scores = np.random.normal(loc=78, scale=5, size=15)  # Average around 78\n",
    "\n",
    "# Historical average score\n",
    "historical_avg = 75\n",
    "\n",
    "# Perform one-sample t-test\n",
    "t_stat, p_value = stats.ttest_1samp(sample_scores, popmean=historical_avg)\n",
    "\n",
    "# Print results\n",
    "print(\"Sample Mean:\", np.mean(sample_scores))\n",
    "print(\"T-statistic:\", t_stat)\n",
    "print(\"P-value:\", p_value)\n",
    "\n",
    "# Interpret the result\n",
    "if p_value < 0.05:\n",
    "    print(\"Reject the null hypothesis: The sample mean is significantly different from 75.\")\n",
    "else:\n",
    "    print(\"Fail to reject the null hypothesis: No significant difference from 75.\")"
   ]
  },
  {
   "cell_type": "code",
   "execution_count": 14,
   "id": "e85460cd",
   "metadata": {},
   "outputs": [
    {
     "name": "stdout",
     "output_type": "stream",
     "text": [
      "t-statistic: 5.6181082164497855\n",
      "p-value: 0.0004995943225418322\n"
     ]
    }
   ],
   "source": [
    "from scipy import stats\n",
    "\n",
    "# Group A: 8 hours sleep - scores\n",
    "group_a = [85, 90, 88, 95, 87]\n",
    "\n",
    "# Group B: 4 hours sleep - scores\n",
    "group_b = [75, 80, 78, 70, 74]\n",
    "\n",
    "# Perform independent t-test\n",
    "t_stat, p_value = stats.ttest_ind(group_a, group_b)\n",
    "\n",
    "print(\"t-statistic:\", t_stat)\n",
    "print(\"p-value:\", p_value)"
   ]
  },
  {
   "cell_type": "code",
   "execution_count": null,
   "id": "1d834358",
   "metadata": {},
   "outputs": [],
   "source": []
  }
 ],
 "metadata": {
  "kernelspec": {
   "display_name": "Python 3 (ipykernel)",
   "language": "python",
   "name": "python3"
  },
  "language_info": {
   "codemirror_mode": {
    "name": "ipython",
    "version": 3
   },
   "file_extension": ".py",
   "mimetype": "text/x-python",
   "name": "python",
   "nbconvert_exporter": "python",
   "pygments_lexer": "ipython3",
   "version": "3.11.5"
  }
 },
 "nbformat": 4,
 "nbformat_minor": 5
}
