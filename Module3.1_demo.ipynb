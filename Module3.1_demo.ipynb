{
 "cells": [
  {
   "cell_type": "code",
   "execution_count": 1,
   "id": "826e9647",
   "metadata": {},
   "outputs": [],
   "source": [
    "import sqlite3\n",
    "\n",
    "# 1. Connect to a database (or create one if it doesn't exist)\n",
    "conn = sqlite3.connect('example.db')\n",
    "cursor = conn.cursor()\n",
    "\n"
   ]
  },
  {
   "cell_type": "code",
   "execution_count": 2,
   "id": "122ad184",
   "metadata": {},
   "outputs": [
    {
     "data": {
      "text/plain": [
       "<sqlite3.Cursor at 0x108f23b40>"
      ]
     },
     "execution_count": 2,
     "metadata": {},
     "output_type": "execute_result"
    }
   ],
   "source": [
    "# 2. Create a table\n",
    "cursor.execute('''\n",
    "    CREATE TABLE IF NOT EXISTS users (\n",
    "        id INTEGER PRIMARY KEY AUTOINCREMENT,\n",
    "        name TEXT NOT NULL,\n",
    "        age INTEGER\n",
    "    )\n",
    "''')"
   ]
  },
  {
   "cell_type": "code",
   "execution_count": 3,
   "id": "f4b9e97c",
   "metadata": {},
   "outputs": [],
   "source": [
    "# 3. Insert data\n",
    "cursor.execute(\"INSERT INTO users (name, age) VALUES (?, ?)\", (\"Alice\", 30))\n",
    "cursor.execute(\"INSERT INTO users (name, age) VALUES (?, ?)\", (\"Bob\", 25))\n",
    "conn.commit()"
   ]
  },
  {
   "cell_type": "code",
   "execution_count": 4,
   "id": "c7e902c7",
   "metadata": {},
   "outputs": [
    {
     "name": "stdout",
     "output_type": "stream",
     "text": [
      "All Users:\n",
      "(1, 'Alice', 30)\n",
      "(2, 'Bob', 25)\n"
     ]
    }
   ],
   "source": [
    "# 4. Query data\n",
    "cursor.execute(\"SELECT * FROM users\")\n",
    "rows = cursor.fetchall()\n",
    "print(\"All Users:\")\n",
    "for row in rows:\n",
    "    print(row)"
   ]
  },
  {
   "cell_type": "code",
   "execution_count": 5,
   "id": "51eb3523",
   "metadata": {},
   "outputs": [],
   "source": [
    "# 5. Update data\n",
    "cursor.execute(\"UPDATE users SET age = ? WHERE name = ?\", (26, \"Bob\"))\n",
    "conn.commit()\n",
    "\n",
    "# 6. Delete data\n",
    "cursor.execute(\"DELETE FROM users WHERE name = ?\", (\"Alice\",))\n",
    "conn.commit()"
   ]
  },
  {
   "cell_type": "code",
   "execution_count": 6,
   "id": "a58ee228",
   "metadata": {},
   "outputs": [
    {
     "name": "stdout",
     "output_type": "stream",
     "text": [
      "\n",
      "After Update/Delete:\n",
      "(2, 'Bob', 26)\n"
     ]
    }
   ],
   "source": [
    "# Show final data\n",
    "cursor.execute(\"SELECT * FROM users\")\n",
    "print(\"\\nAfter Update/Delete:\")\n",
    "for row in cursor.fetchall():\n",
    "    print(row)\n"
   ]
  },
  {
   "cell_type": "code",
   "execution_count": null,
   "id": "9f5f9111",
   "metadata": {},
   "outputs": [],
   "source": [
    "# 7. Close connection\n",
    "conn.close()"
   ]
  },
  {
   "cell_type": "code",
   "execution_count": 8,
   "id": "c38acdbe",
   "metadata": {},
   "outputs": [
    {
     "name": "stdout",
     "output_type": "stream",
     "text": [
      "Collecting pymongo\n",
      "  Obtaining dependency information for pymongo from https://files.pythonhosted.org/packages/4f/dd/90667744976e4dff66ac65f1b9e5db146c0a052a186728ce820f68b1af4c/pymongo-4.13.1-cp311-cp311-macosx_11_0_arm64.whl.metadata\n",
      "  Downloading pymongo-4.13.1-cp311-cp311-macosx_11_0_arm64.whl.metadata (22 kB)\n",
      "Collecting dnspython<3.0.0,>=1.16.0 (from pymongo)\n",
      "  Obtaining dependency information for dnspython<3.0.0,>=1.16.0 from https://files.pythonhosted.org/packages/68/1b/e0a87d256e40e8c888847551b20a017a6b98139178505dc7ffb96f04e954/dnspython-2.7.0-py3-none-any.whl.metadata\n",
      "  Downloading dnspython-2.7.0-py3-none-any.whl.metadata (5.8 kB)\n",
      "Downloading pymongo-4.13.1-cp311-cp311-macosx_11_0_arm64.whl (857 kB)\n",
      "\u001b[2K   \u001b[90m━━━━━━━━━━━━━━━━━━━━━━━━━━━━━━━━━━━━━━━━\u001b[0m \u001b[32m857.3/857.3 kB\u001b[0m \u001b[31m4.4 MB/s\u001b[0m eta \u001b[36m0:00:00\u001b[0m00:01\u001b[0m00:01\u001b[0m\n",
      "\u001b[?25hDownloading dnspython-2.7.0-py3-none-any.whl (313 kB)\n",
      "\u001b[2K   \u001b[90m━━━━━━━━━━━━━━━━━━━━━━━━━━━━━━━━━━━━━━━━\u001b[0m \u001b[32m313.6/313.6 kB\u001b[0m \u001b[31m6.6 MB/s\u001b[0m eta \u001b[36m0:00:00\u001b[0ma \u001b[36m0:00:01\u001b[0m\n",
      "\u001b[?25hInstalling collected packages: dnspython, pymongo\n",
      "Successfully installed dnspython-2.7.0 pymongo-4.13.1\n"
     ]
    }
   ],
   "source": [
    "!pip install pymongo"
   ]
  },
  {
   "cell_type": "code",
   "execution_count": 9,
   "id": "e8719e8f",
   "metadata": {},
   "outputs": [],
   "source": [
    "from pymongo import MongoClient\n",
    "\n",
    "client = MongoClient()\n",
    "db = client['school']\n",
    "students = db['students']"
   ]
  },
  {
   "cell_type": "code",
   "execution_count": null,
   "id": "73006ad6",
   "metadata": {},
   "outputs": [],
   "source": [
    "# CREATE\n",
    "students.insert_one({\"name\": \"Alice\", \"marks\": 90})\n",
    "\n",
    "# READ\n",
    "students.find_one({\"name\": \"Alice\"})\n",
    "\n"
   ]
  },
  {
   "cell_type": "code",
   "execution_count": null,
   "id": "63c1a619",
   "metadata": {},
   "outputs": [],
   "source": [
    "# UPDATE\n",
    "students.update_one({\"name\": \"Alice\"}, {\"$set\": {\"marks\": 95}})\n",
    "\n",
    "# DELETE\n",
    "students.delete_one({\"name\": \"Alice\"})"
   ]
  },
  {
   "cell_type": "code",
   "execution_count": null,
   "id": "2f801925",
   "metadata": {},
   "outputs": [],
   "source": [
    "# Module 3.2 demo"
   ]
  },
  {
   "cell_type": "code",
   "execution_count": 13,
   "id": "bebdaf3d",
   "metadata": {},
   "outputs": [
    {
     "name": "stdout",
     "output_type": "stream",
     "text": [
      "😂 Here's a joke for you:\n",
      "Why did the belt go to prison? ... He held up a pair of pants!\n"
     ]
    }
   ],
   "source": [
    "import requests\n",
    "\n",
    "def get_random_joke():\n",
    "    url = \"https://official-joke-api.appspot.com/random_joke\"\n",
    "    response = requests.get(url)\n",
    "\n",
    "    if response.status_code == 200:\n",
    "        joke = response.json()\n",
    "        print(\"😂 Here's a joke for you:\")\n",
    "        print(f\"{joke['setup']} ... {joke['punchline']}\")\n",
    "    else:\n",
    "        print(\"Failed to fetch joke:\", response.status_code)\n",
    "\n",
    "get_random_joke()"
   ]
  },
  {
   "cell_type": "code",
   "execution_count": 14,
   "id": "798d7376",
   "metadata": {},
   "outputs": [
    {
     "name": "stdout",
     "output_type": "stream",
     "text": [
      "Failed to get weather data: 401\n"
     ]
    }
   ],
   "source": [
    "def get_weather(city, api_key):\n",
    "    # Base URL for OpenWeatherMap API\n",
    "    url = f\"http://api.openweathermap.org/data/2.5/weather?q={city}&appid={api_key}&units=metric\"\n",
    "\n",
    "    # Make a GET request\n",
    "    response = requests.get(url)\n",
    "\n",
    "    if response.status_code == 200:\n",
    "        data = response.json()\n",
    "        print(f\"Weather in {data['name']}, {data['sys']['country']}:\")\n",
    "        print(f\"- Temperature: {data['main']['temp']}°C\")\n",
    "        print(f\"- Weather: {data['weather'][0]['description']}\")\n",
    "        print(f\"- Humidity: {data['main']['humidity']}%\")\n",
    "    else:\n",
    "        print(\"Failed to get weather data:\", response.status_code)\n",
    "\n",
    "# Replace with your actual API key\n",
    "API_KEY = \"your_api_key_here\"\n",
    "get_weather(\"Bangalore\", API_KEY)"
   ]
  },
  {
   "cell_type": "code",
   "execution_count": null,
   "id": "4e6e7209",
   "metadata": {},
   "outputs": [],
   "source": [
    "gemini_api_key = \"YOUR API KEY\" # ONLY FOR NOW\n",
    "import google.generativeai as genai\n",
    "genai.configure(api_key=gemini_api_key)\n",
    "model = genai.GenerativeModel('gemini-2.0-flash') "
   ]
  },
  {
   "cell_type": "code",
   "execution_count": 19,
   "id": "acdbfdd2",
   "metadata": {},
   "outputs": [
    {
     "name": "stdout",
     "output_type": "stream",
     "text": [
      "```json\n",
      "{\n",
      "  \"rating\": 2,\n",
      "  \"reason\": \"The user mentions issues with the packaging and the book's cover looking old, indicating dissatisfaction with the product's condition despite timely delivery.\"\n",
      "}\n",
      "```\n",
      "\n"
     ]
    }
   ],
   "source": [
    "\n",
    "response = model.generate_content(\"Based on the following product review from a user, give a rating to the product on a scale of 1 to 5: The book arrived on time but I was surprised to see the packaging. The cover looked old too. Give the response in the form of a json with two fields: rating and reason. Do not print anything else.\")\n",
    "print(response.text)"
   ]
  },
  {
   "cell_type": "code",
   "execution_count": null,
   "id": "4dec3a6d",
   "metadata": {},
   "outputs": [],
   "source": []
  }
 ],
 "metadata": {
  "kernelspec": {
   "display_name": "Python 3 (ipykernel)",
   "language": "python",
   "name": "python3"
  },
  "language_info": {
   "codemirror_mode": {
    "name": "ipython",
    "version": 3
   },
   "file_extension": ".py",
   "mimetype": "text/x-python",
   "name": "python",
   "nbconvert_exporter": "python",
   "pygments_lexer": "ipython3",
   "version": "3.11.5"
  }
 },
 "nbformat": 4,
 "nbformat_minor": 5
}
